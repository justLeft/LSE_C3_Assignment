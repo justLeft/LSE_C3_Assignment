{
 "cells": [
  {
   "cell_type": "markdown",
   "id": "59711a08",
   "metadata": {},
   "source": [
    "### LSE Data Analytics Online Career Accelerator \n",
    "\n",
    "# DA301:  Advanced Analytics for Organisational Impact"
   ]
  },
  {
   "cell_type": "markdown",
   "id": "03291ae9",
   "metadata": {},
   "source": [
    "## Assignment template"
   ]
  },
  {
   "cell_type": "markdown",
   "id": "3d90776e",
   "metadata": {},
   "source": [
    "### Scenario\n",
    "You are a data analyst working for Turtle Games, a game manufacturer and retailer. They manufacture and sell their own products, along with sourcing and selling products manufactured by other companies. Their product range includes books, board games, video games and toys. They have a global customer base and have a business objective of improving overall sales performance by utilising customer trends. In particular, Turtle Games wants to understand: \n",
    "- how customers accumulate loyalty points (Week 1)\n",
    "- how useful are remuneration and spending scores data (Week 2)\n",
    "- can social data (e.g. customer reviews) be used in marketing campaigns (Week 3)\n",
    "- what is the impact on sales per product (Week 4)\n",
    "- the reliability of the data (e.g. normal distribution, Skewness, Kurtosis) (Week 5)\n",
    "- if there is any possible relationship(s) in sales between North America, Europe, and global sales (Week 6)."
   ]
  },
  {
   "cell_type": "markdown",
   "id": "dbdfeaee",
   "metadata": {},
   "source": [
    "# Week 1 assignment: Linear regression using Python\n",
    "The marketing department of Turtle Games prefers Python for data analysis. As you are fluent in Python, they asked you to assist with data analysis of social media data. The marketing department wants to better understand how users accumulate loyalty points. Therefore, you need to investigate the possible relationships between the loyalty points, age, remuneration, and spending scores. Note that you will use this data set in future modules as well and it is, therefore, strongly encouraged to first clean the data as per provided guidelines and then save a copy of the clean data for future use.\n",
    "\n",
    "## Instructions\n",
    "1. Load and explore the data.\n",
    "    1. Create a new DataFrame (e.g. reviews).\n",
    "    2. Sense-check the DataFrame.\n",
    "    3. Determine if there are any missing values in the DataFrame.\n",
    "    4. Create a summary of the descriptive statistics.\n",
    "2. Remove redundant columns (`language` and `platform`).\n",
    "3. Change column headings to names that are easier to reference (e.g. `renumeration` and `spending_score`).\n",
    "4. Save a copy of the clean DataFrame as a CSV file. Import the file to sense-check.\n",
    "5. Use linear regression and the `statsmodels` functions to evaluate possible linear relationships between loyalty points and age/renumeration/spending scores to determine whether these can be used to predict the loyalty points.\n",
    "    1. Specify the independent and dependent variables.\n",
    "    2. Create the OLS model.\n",
    "    3. Extract the estimated parameters, standard errors, and predicted values.\n",
    "    4. Generate the regression table based on the X coefficient and constant values.\n",
    "    5. Plot the linear regression and add a regression line.\n",
    "6. Include your insights and observations."
   ]
  },
  {
   "cell_type": "markdown",
   "id": "15ea2c71",
   "metadata": {
    "tags": []
   },
   "source": [
    "## 1. Load and explore the data"
   ]
  },
  {
   "cell_type": "code",
   "execution_count": 2,
   "id": "45cc3186",
   "metadata": {},
   "outputs": [],
   "source": [
    "# Imports\n",
    "import numpy as np\n",
    "import pandas as pd\n",
    "import matplotlib.pyplot as plt\n",
    "import seaborn as sns\n",
    "import statsmodels.api as sm \n",
    "from statsmodels.formula.api import ols"
   ]
  },
  {
   "cell_type": "code",
   "execution_count": 3,
   "id": "b8c3d8de",
   "metadata": {
    "tags": []
   },
   "outputs": [
    {
     "data": {
      "text/html": [
       "<div>\n",
       "<style scoped>\n",
       "    .dataframe tbody tr th:only-of-type {\n",
       "        vertical-align: middle;\n",
       "    }\n",
       "\n",
       "    .dataframe tbody tr th {\n",
       "        vertical-align: top;\n",
       "    }\n",
       "\n",
       "    .dataframe thead th {\n",
       "        text-align: right;\n",
       "    }\n",
       "</style>\n",
       "<table border=\"1\" class=\"dataframe\">\n",
       "  <thead>\n",
       "    <tr style=\"text-align: right;\">\n",
       "      <th></th>\n",
       "      <th>gender</th>\n",
       "      <th>age</th>\n",
       "      <th>remuneration (k£)</th>\n",
       "      <th>spending_score (1-100)</th>\n",
       "      <th>loyalty_points</th>\n",
       "      <th>education</th>\n",
       "      <th>language</th>\n",
       "      <th>platform</th>\n",
       "      <th>product</th>\n",
       "      <th>review</th>\n",
       "      <th>summary</th>\n",
       "    </tr>\n",
       "  </thead>\n",
       "  <tbody>\n",
       "    <tr>\n",
       "      <th>0</th>\n",
       "      <td>Male</td>\n",
       "      <td>18</td>\n",
       "      <td>12.30</td>\n",
       "      <td>39</td>\n",
       "      <td>210</td>\n",
       "      <td>graduate</td>\n",
       "      <td>EN</td>\n",
       "      <td>Web</td>\n",
       "      <td>453</td>\n",
       "      <td>When it comes to a DM's screen, the space on t...</td>\n",
       "      <td>The fact that 50% of this space is wasted on a...</td>\n",
       "    </tr>\n",
       "    <tr>\n",
       "      <th>1</th>\n",
       "      <td>Male</td>\n",
       "      <td>23</td>\n",
       "      <td>12.30</td>\n",
       "      <td>81</td>\n",
       "      <td>524</td>\n",
       "      <td>graduate</td>\n",
       "      <td>EN</td>\n",
       "      <td>Web</td>\n",
       "      <td>466</td>\n",
       "      <td>An Open Letter to GaleForce9*:\\n\\nYour unpaint...</td>\n",
       "      <td>Another worthless Dungeon Master's screen from...</td>\n",
       "    </tr>\n",
       "    <tr>\n",
       "      <th>2</th>\n",
       "      <td>Female</td>\n",
       "      <td>22</td>\n",
       "      <td>13.12</td>\n",
       "      <td>6</td>\n",
       "      <td>40</td>\n",
       "      <td>graduate</td>\n",
       "      <td>EN</td>\n",
       "      <td>Web</td>\n",
       "      <td>254</td>\n",
       "      <td>Nice art, nice printing.  Why two panels are f...</td>\n",
       "      <td>pretty, but also pretty useless</td>\n",
       "    </tr>\n",
       "    <tr>\n",
       "      <th>3</th>\n",
       "      <td>Female</td>\n",
       "      <td>25</td>\n",
       "      <td>13.12</td>\n",
       "      <td>77</td>\n",
       "      <td>562</td>\n",
       "      <td>graduate</td>\n",
       "      <td>EN</td>\n",
       "      <td>Web</td>\n",
       "      <td>263</td>\n",
       "      <td>Amazing buy! Bought it as a gift for our new d...</td>\n",
       "      <td>Five Stars</td>\n",
       "    </tr>\n",
       "    <tr>\n",
       "      <th>4</th>\n",
       "      <td>Female</td>\n",
       "      <td>33</td>\n",
       "      <td>13.94</td>\n",
       "      <td>40</td>\n",
       "      <td>366</td>\n",
       "      <td>graduate</td>\n",
       "      <td>EN</td>\n",
       "      <td>Web</td>\n",
       "      <td>291</td>\n",
       "      <td>As my review of GF9's previous screens these w...</td>\n",
       "      <td>Money trap</td>\n",
       "    </tr>\n",
       "    <tr>\n",
       "      <th>...</th>\n",
       "      <td>...</td>\n",
       "      <td>...</td>\n",
       "      <td>...</td>\n",
       "      <td>...</td>\n",
       "      <td>...</td>\n",
       "      <td>...</td>\n",
       "      <td>...</td>\n",
       "      <td>...</td>\n",
       "      <td>...</td>\n",
       "      <td>...</td>\n",
       "      <td>...</td>\n",
       "    </tr>\n",
       "    <tr>\n",
       "      <th>1995</th>\n",
       "      <td>Female</td>\n",
       "      <td>37</td>\n",
       "      <td>84.46</td>\n",
       "      <td>69</td>\n",
       "      <td>4031</td>\n",
       "      <td>PhD</td>\n",
       "      <td>EN</td>\n",
       "      <td>Web</td>\n",
       "      <td>977</td>\n",
       "      <td>The perfect word game for mixed ages (with Mom...</td>\n",
       "      <td>The perfect word game for mixed ages (with Mom</td>\n",
       "    </tr>\n",
       "    <tr>\n",
       "      <th>1996</th>\n",
       "      <td>Female</td>\n",
       "      <td>43</td>\n",
       "      <td>92.66</td>\n",
       "      <td>8</td>\n",
       "      <td>539</td>\n",
       "      <td>PhD</td>\n",
       "      <td>EN</td>\n",
       "      <td>Web</td>\n",
       "      <td>979</td>\n",
       "      <td>Great game.  Did not think I would like it whe...</td>\n",
       "      <td>Super fun</td>\n",
       "    </tr>\n",
       "    <tr>\n",
       "      <th>1997</th>\n",
       "      <td>Male</td>\n",
       "      <td>34</td>\n",
       "      <td>92.66</td>\n",
       "      <td>91</td>\n",
       "      <td>5614</td>\n",
       "      <td>graduate</td>\n",
       "      <td>EN</td>\n",
       "      <td>Web</td>\n",
       "      <td>1012</td>\n",
       "      <td>Great game for all.........\\nKeeps the mind ni...</td>\n",
       "      <td>Great Game</td>\n",
       "    </tr>\n",
       "    <tr>\n",
       "      <th>1998</th>\n",
       "      <td>Male</td>\n",
       "      <td>34</td>\n",
       "      <td>98.40</td>\n",
       "      <td>16</td>\n",
       "      <td>1048</td>\n",
       "      <td>PhD</td>\n",
       "      <td>EN</td>\n",
       "      <td>Web</td>\n",
       "      <td>1031</td>\n",
       "      <td>fun game!</td>\n",
       "      <td>Four Stars</td>\n",
       "    </tr>\n",
       "    <tr>\n",
       "      <th>1999</th>\n",
       "      <td>Male</td>\n",
       "      <td>32</td>\n",
       "      <td>92.66</td>\n",
       "      <td>8</td>\n",
       "      <td>479</td>\n",
       "      <td>PhD</td>\n",
       "      <td>EN</td>\n",
       "      <td>Web</td>\n",
       "      <td>453</td>\n",
       "      <td>This game is fun. A lot like scrabble without ...</td>\n",
       "      <td>Love this game</td>\n",
       "    </tr>\n",
       "  </tbody>\n",
       "</table>\n",
       "<p>2000 rows × 11 columns</p>\n",
       "</div>"
      ],
      "text/plain": [
       "      gender  age  remuneration (k£)  spending_score (1-100)  loyalty_points  \\\n",
       "0       Male   18              12.30                      39             210   \n",
       "1       Male   23              12.30                      81             524   \n",
       "2     Female   22              13.12                       6              40   \n",
       "3     Female   25              13.12                      77             562   \n",
       "4     Female   33              13.94                      40             366   \n",
       "...      ...  ...                ...                     ...             ...   \n",
       "1995  Female   37              84.46                      69            4031   \n",
       "1996  Female   43              92.66                       8             539   \n",
       "1997    Male   34              92.66                      91            5614   \n",
       "1998    Male   34              98.40                      16            1048   \n",
       "1999    Male   32              92.66                       8             479   \n",
       "\n",
       "     education language platform  product  \\\n",
       "0     graduate       EN      Web      453   \n",
       "1     graduate       EN      Web      466   \n",
       "2     graduate       EN      Web      254   \n",
       "3     graduate       EN      Web      263   \n",
       "4     graduate       EN      Web      291   \n",
       "...        ...      ...      ...      ...   \n",
       "1995       PhD       EN      Web      977   \n",
       "1996       PhD       EN      Web      979   \n",
       "1997  graduate       EN      Web     1012   \n",
       "1998       PhD       EN      Web     1031   \n",
       "1999       PhD       EN      Web      453   \n",
       "\n",
       "                                                 review  \\\n",
       "0     When it comes to a DM's screen, the space on t...   \n",
       "1     An Open Letter to GaleForce9*:\\n\\nYour unpaint...   \n",
       "2     Nice art, nice printing.  Why two panels are f...   \n",
       "3     Amazing buy! Bought it as a gift for our new d...   \n",
       "4     As my review of GF9's previous screens these w...   \n",
       "...                                                 ...   \n",
       "1995  The perfect word game for mixed ages (with Mom...   \n",
       "1996  Great game.  Did not think I would like it whe...   \n",
       "1997  Great game for all.........\\nKeeps the mind ni...   \n",
       "1998                                          fun game!   \n",
       "1999  This game is fun. A lot like scrabble without ...   \n",
       "\n",
       "                                                summary  \n",
       "0     The fact that 50% of this space is wasted on a...  \n",
       "1     Another worthless Dungeon Master's screen from...  \n",
       "2                       pretty, but also pretty useless  \n",
       "3                                            Five Stars  \n",
       "4                                            Money trap  \n",
       "...                                                 ...  \n",
       "1995     The perfect word game for mixed ages (with Mom  \n",
       "1996                                          Super fun  \n",
       "1997                                         Great Game  \n",
       "1998                                         Four Stars  \n",
       "1999                                     Love this game  \n",
       "\n",
       "[2000 rows x 11 columns]"
      ]
     },
     "execution_count": 3,
     "metadata": {},
     "output_type": "execute_result"
    }
   ],
   "source": [
    "# Load the CSV file(s) as reviews.\n",
    "reviews = pd.read_csv('turtle_reviews.csv')\n",
    "\n",
    "# View the DataFrame.\n",
    "reviews"
   ]
  },
  {
   "cell_type": "code",
   "execution_count": 10,
   "id": "d9f36bd0-71be-4494-b873-1b1a2f52f258",
   "metadata": {
    "tags": []
   },
   "outputs": [
    {
     "name": "stdout",
     "output_type": "stream",
     "text": [
      "<class 'pandas.core.frame.DataFrame'>\n",
      "RangeIndex: 2000 entries, 0 to 1999\n",
      "Data columns (total 11 columns):\n",
      " #   Column                  Non-Null Count  Dtype  \n",
      "---  ------                  --------------  -----  \n",
      " 0   gender                  2000 non-null   object \n",
      " 1   age                     2000 non-null   int64  \n",
      " 2   remuneration (k£)       2000 non-null   float64\n",
      " 3   spending_score (1-100)  2000 non-null   int64  \n",
      " 4   loyalty_points          2000 non-null   int64  \n",
      " 5   education               2000 non-null   object \n",
      " 6   language                2000 non-null   object \n",
      " 7   platform                2000 non-null   object \n",
      " 8   product                 2000 non-null   int64  \n",
      " 9   review                  2000 non-null   object \n",
      " 10  summary                 2000 non-null   object \n",
      "dtypes: float64(1), int64(4), object(6)\n",
      "memory usage: 172.0+ KB\n"
     ]
    }
   ],
   "source": [
    "# Explore the data.\n",
    "reviews.info()"
   ]
  },
  {
   "cell_type": "code",
   "execution_count": 9,
   "id": "74f96de1-888a-4698-9ec1-23e768642848",
   "metadata": {},
   "outputs": [
    {
     "data": {
      "text/plain": [
       "gender                    0\n",
       "age                       0\n",
       "remuneration (k£)         0\n",
       "spending_score (1-100)    0\n",
       "loyalty_points            0\n",
       "education                 0\n",
       "language                  0\n",
       "platform                  0\n",
       "product                   0\n",
       "review                    0\n",
       "summary                   0\n",
       "dtype: int64"
      ]
     },
     "execution_count": 9,
     "metadata": {},
     "output_type": "execute_result"
    }
   ],
   "source": [
    "# Confirm no missing values\n",
    "reviews.isna().sum()"
   ]
  },
  {
   "cell_type": "code",
   "execution_count": 8,
   "id": "fad16658-b4eb-4080-8084-ea043453ce8a",
   "metadata": {},
   "outputs": [
    {
     "data": {
      "text/html": [
       "<div>\n",
       "<style scoped>\n",
       "    .dataframe tbody tr th:only-of-type {\n",
       "        vertical-align: middle;\n",
       "    }\n",
       "\n",
       "    .dataframe tbody tr th {\n",
       "        vertical-align: top;\n",
       "    }\n",
       "\n",
       "    .dataframe thead th {\n",
       "        text-align: right;\n",
       "    }\n",
       "</style>\n",
       "<table border=\"1\" class=\"dataframe\">\n",
       "  <thead>\n",
       "    <tr style=\"text-align: right;\">\n",
       "      <th></th>\n",
       "      <th>age</th>\n",
       "      <th>remuneration (k£)</th>\n",
       "      <th>spending_score (1-100)</th>\n",
       "      <th>loyalty_points</th>\n",
       "      <th>product</th>\n",
       "    </tr>\n",
       "  </thead>\n",
       "  <tbody>\n",
       "    <tr>\n",
       "      <th>count</th>\n",
       "      <td>2000.000000</td>\n",
       "      <td>2000.000000</td>\n",
       "      <td>2000.000000</td>\n",
       "      <td>2000.000000</td>\n",
       "      <td>2000.000000</td>\n",
       "    </tr>\n",
       "    <tr>\n",
       "      <th>mean</th>\n",
       "      <td>39.495000</td>\n",
       "      <td>48.079060</td>\n",
       "      <td>50.000000</td>\n",
       "      <td>1578.032000</td>\n",
       "      <td>4320.521500</td>\n",
       "    </tr>\n",
       "    <tr>\n",
       "      <th>std</th>\n",
       "      <td>13.573212</td>\n",
       "      <td>23.123984</td>\n",
       "      <td>26.094702</td>\n",
       "      <td>1283.239705</td>\n",
       "      <td>3148.938839</td>\n",
       "    </tr>\n",
       "    <tr>\n",
       "      <th>min</th>\n",
       "      <td>17.000000</td>\n",
       "      <td>12.300000</td>\n",
       "      <td>1.000000</td>\n",
       "      <td>25.000000</td>\n",
       "      <td>107.000000</td>\n",
       "    </tr>\n",
       "    <tr>\n",
       "      <th>25%</th>\n",
       "      <td>29.000000</td>\n",
       "      <td>30.340000</td>\n",
       "      <td>32.000000</td>\n",
       "      <td>772.000000</td>\n",
       "      <td>1589.250000</td>\n",
       "    </tr>\n",
       "    <tr>\n",
       "      <th>50%</th>\n",
       "      <td>38.000000</td>\n",
       "      <td>47.150000</td>\n",
       "      <td>50.000000</td>\n",
       "      <td>1276.000000</td>\n",
       "      <td>3624.000000</td>\n",
       "    </tr>\n",
       "    <tr>\n",
       "      <th>75%</th>\n",
       "      <td>49.000000</td>\n",
       "      <td>63.960000</td>\n",
       "      <td>73.000000</td>\n",
       "      <td>1751.250000</td>\n",
       "      <td>6654.000000</td>\n",
       "    </tr>\n",
       "    <tr>\n",
       "      <th>max</th>\n",
       "      <td>72.000000</td>\n",
       "      <td>112.340000</td>\n",
       "      <td>99.000000</td>\n",
       "      <td>6847.000000</td>\n",
       "      <td>11086.000000</td>\n",
       "    </tr>\n",
       "  </tbody>\n",
       "</table>\n",
       "</div>"
      ],
      "text/plain": [
       "               age  remuneration (k£)  spending_score (1-100)  loyalty_points  \\\n",
       "count  2000.000000        2000.000000             2000.000000     2000.000000   \n",
       "mean     39.495000          48.079060               50.000000     1578.032000   \n",
       "std      13.573212          23.123984               26.094702     1283.239705   \n",
       "min      17.000000          12.300000                1.000000       25.000000   \n",
       "25%      29.000000          30.340000               32.000000      772.000000   \n",
       "50%      38.000000          47.150000               50.000000     1276.000000   \n",
       "75%      49.000000          63.960000               73.000000     1751.250000   \n",
       "max      72.000000         112.340000               99.000000     6847.000000   \n",
       "\n",
       "            product  \n",
       "count   2000.000000  \n",
       "mean    4320.521500  \n",
       "std     3148.938839  \n",
       "min      107.000000  \n",
       "25%     1589.250000  \n",
       "50%     3624.000000  \n",
       "75%     6654.000000  \n",
       "max    11086.000000  "
      ]
     },
     "execution_count": 8,
     "metadata": {},
     "output_type": "execute_result"
    }
   ],
   "source": [
    "# Descriptive statistics.\n",
    "reviews.describe()"
   ]
  },
  {
   "cell_type": "code",
   "execution_count": null,
   "id": "bf759793-edf3-4253-9aa3-f7b46c2904e3",
   "metadata": {},
   "outputs": [],
   "source": []
  },
  {
   "cell_type": "markdown",
   "id": "5d25344d-3aed-4d27-bb24-2142be9c99ef",
   "metadata": {
    "tags": []
   },
   "source": [
    "## 2. Drop columns"
   ]
  },
  {
   "cell_type": "code",
   "execution_count": 12,
   "id": "c64d5ad6-4df2-47f6-81af-6431fd21fef5",
   "metadata": {
    "tags": []
   },
   "outputs": [
    {
     "data": {
      "text/plain": [
       "Female    1120\n",
       "Male       880\n",
       "Name: gender, dtype: int64"
      ]
     },
     "execution_count": 12,
     "metadata": {},
     "output_type": "execute_result"
    }
   ],
   "source": [
    "#Count categorical values\n",
    "reviews.gender.value_counts()"
   ]
  },
  {
   "cell_type": "code",
   "execution_count": 13,
   "id": "c569312b-d77a-496a-b08c-c9c28f4fc0f4",
   "metadata": {},
   "outputs": [
    {
     "data": {
      "text/plain": [
       "graduate        900\n",
       "PhD             460\n",
       "postgraduate    400\n",
       "diploma         190\n",
       "Basic            50\n",
       "Name: education, dtype: int64"
      ]
     },
     "execution_count": 13,
     "metadata": {},
     "output_type": "execute_result"
    }
   ],
   "source": [
    "reviews.education.value_counts()"
   ]
  },
  {
   "cell_type": "code",
   "execution_count": 14,
   "id": "2c6d0d8e-1c52-4a2c-ac87-cea48587e31f",
   "metadata": {},
   "outputs": [
    {
     "data": {
      "text/plain": [
       "EN    2000\n",
       "Name: language, dtype: int64"
      ]
     },
     "execution_count": 14,
     "metadata": {},
     "output_type": "execute_result"
    }
   ],
   "source": [
    "reviews.language.value_counts()"
   ]
  },
  {
   "cell_type": "code",
   "execution_count": 15,
   "id": "5473922e-97a6-461e-8997-5431d8b5b822",
   "metadata": {},
   "outputs": [
    {
     "data": {
      "text/plain": [
       "Web    2000\n",
       "Name: platform, dtype: int64"
      ]
     },
     "execution_count": 15,
     "metadata": {},
     "output_type": "execute_result"
    }
   ],
   "source": [
    "reviews.platform.value_counts()"
   ]
  },
  {
   "cell_type": "code",
   "execution_count": 17,
   "id": "511b813a-f04f-4c3a-9a11-ad6d7a423525",
   "metadata": {},
   "outputs": [
    {
     "data": {
      "text/plain": [
       "Index(['gender', 'age', 'remuneration (k£)', 'spending_score (1-100)',\n",
       "       'loyalty_points', 'education', 'product', 'review', 'summary'],\n",
       "      dtype='object')"
      ]
     },
     "execution_count": 17,
     "metadata": {},
     "output_type": "execute_result"
    }
   ],
   "source": [
    "# Drop unnecessary columns.\n",
    "reviews.drop(['language', 'platform'], axis=1, inplace=True)\n",
    "\n",
    "# View column names.\n",
    "reviews.columns"
   ]
  },
  {
   "cell_type": "code",
   "execution_count": null,
   "id": "e4b97668-9396-4b10-a429-9bca56880f28",
   "metadata": {},
   "outputs": [],
   "source": []
  },
  {
   "cell_type": "markdown",
   "id": "8fafd556-c6fa-439b-aac3-0fe332b1eb45",
   "metadata": {},
   "source": [
    "## 3. Rename columns"
   ]
  },
  {
   "cell_type": "code",
   "execution_count": 18,
   "id": "e06310ed-ab6b-4f6e-8307-bdd3380853f5",
   "metadata": {},
   "outputs": [
    {
     "data": {
      "text/plain": [
       "Index(['gender', 'age', 'remuneration', 'spending_score', 'loyalty_points',\n",
       "       'education', 'product', 'review', 'summary'],\n",
       "      dtype='object')"
      ]
     },
     "execution_count": 18,
     "metadata": {},
     "output_type": "execute_result"
    }
   ],
   "source": [
    "# Rename the column headers.\n",
    "reviews.rename(columns = {'remuneration (k£)':'remuneration', 'spending_score (1-100)':'spending_score'}, inplace = True)\n",
    "\n",
    "# View column names.\n",
    "reviews.columns"
   ]
  },
  {
   "cell_type": "markdown",
   "id": "6c386d53-d38c-4b24-8883-7d2257320036",
   "metadata": {},
   "source": [
    "## 4. Save the DataFrame as a CSV file"
   ]
  },
  {
   "cell_type": "code",
   "execution_count": 22,
   "id": "76fc1746-570a-47cc-a8a9-fe8b6756a285",
   "metadata": {},
   "outputs": [],
   "source": [
    "# Create a CSV file as output.\n",
    "reviews.to_csv('turtle_cust_reviews.csv', index=False)"
   ]
  },
  {
   "cell_type": "code",
   "execution_count": 23,
   "id": "584d4f35-c1b3-40ab-ba63-c5fc551f3ef5",
   "metadata": {},
   "outputs": [
    {
     "data": {
      "text/html": [
       "<div>\n",
       "<style scoped>\n",
       "    .dataframe tbody tr th:only-of-type {\n",
       "        vertical-align: middle;\n",
       "    }\n",
       "\n",
       "    .dataframe tbody tr th {\n",
       "        vertical-align: top;\n",
       "    }\n",
       "\n",
       "    .dataframe thead th {\n",
       "        text-align: right;\n",
       "    }\n",
       "</style>\n",
       "<table border=\"1\" class=\"dataframe\">\n",
       "  <thead>\n",
       "    <tr style=\"text-align: right;\">\n",
       "      <th></th>\n",
       "      <th>gender</th>\n",
       "      <th>age</th>\n",
       "      <th>remuneration</th>\n",
       "      <th>spending_score</th>\n",
       "      <th>loyalty_points</th>\n",
       "      <th>education</th>\n",
       "      <th>product</th>\n",
       "      <th>review</th>\n",
       "      <th>summary</th>\n",
       "    </tr>\n",
       "  </thead>\n",
       "  <tbody>\n",
       "    <tr>\n",
       "      <th>0</th>\n",
       "      <td>Male</td>\n",
       "      <td>18</td>\n",
       "      <td>12.30</td>\n",
       "      <td>39</td>\n",
       "      <td>210</td>\n",
       "      <td>graduate</td>\n",
       "      <td>453</td>\n",
       "      <td>When it comes to a DM's screen, the space on t...</td>\n",
       "      <td>The fact that 50% of this space is wasted on a...</td>\n",
       "    </tr>\n",
       "    <tr>\n",
       "      <th>1</th>\n",
       "      <td>Male</td>\n",
       "      <td>23</td>\n",
       "      <td>12.30</td>\n",
       "      <td>81</td>\n",
       "      <td>524</td>\n",
       "      <td>graduate</td>\n",
       "      <td>466</td>\n",
       "      <td>An Open Letter to GaleForce9*:\\n\\nYour unpaint...</td>\n",
       "      <td>Another worthless Dungeon Master's screen from...</td>\n",
       "    </tr>\n",
       "    <tr>\n",
       "      <th>2</th>\n",
       "      <td>Female</td>\n",
       "      <td>22</td>\n",
       "      <td>13.12</td>\n",
       "      <td>6</td>\n",
       "      <td>40</td>\n",
       "      <td>graduate</td>\n",
       "      <td>254</td>\n",
       "      <td>Nice art, nice printing.  Why two panels are f...</td>\n",
       "      <td>pretty, but also pretty useless</td>\n",
       "    </tr>\n",
       "    <tr>\n",
       "      <th>3</th>\n",
       "      <td>Female</td>\n",
       "      <td>25</td>\n",
       "      <td>13.12</td>\n",
       "      <td>77</td>\n",
       "      <td>562</td>\n",
       "      <td>graduate</td>\n",
       "      <td>263</td>\n",
       "      <td>Amazing buy! Bought it as a gift for our new d...</td>\n",
       "      <td>Five Stars</td>\n",
       "    </tr>\n",
       "    <tr>\n",
       "      <th>4</th>\n",
       "      <td>Female</td>\n",
       "      <td>33</td>\n",
       "      <td>13.94</td>\n",
       "      <td>40</td>\n",
       "      <td>366</td>\n",
       "      <td>graduate</td>\n",
       "      <td>291</td>\n",
       "      <td>As my review of GF9's previous screens these w...</td>\n",
       "      <td>Money trap</td>\n",
       "    </tr>\n",
       "    <tr>\n",
       "      <th>...</th>\n",
       "      <td>...</td>\n",
       "      <td>...</td>\n",
       "      <td>...</td>\n",
       "      <td>...</td>\n",
       "      <td>...</td>\n",
       "      <td>...</td>\n",
       "      <td>...</td>\n",
       "      <td>...</td>\n",
       "      <td>...</td>\n",
       "    </tr>\n",
       "    <tr>\n",
       "      <th>1995</th>\n",
       "      <td>Female</td>\n",
       "      <td>37</td>\n",
       "      <td>84.46</td>\n",
       "      <td>69</td>\n",
       "      <td>4031</td>\n",
       "      <td>PhD</td>\n",
       "      <td>977</td>\n",
       "      <td>The perfect word game for mixed ages (with Mom...</td>\n",
       "      <td>The perfect word game for mixed ages (with Mom</td>\n",
       "    </tr>\n",
       "    <tr>\n",
       "      <th>1996</th>\n",
       "      <td>Female</td>\n",
       "      <td>43</td>\n",
       "      <td>92.66</td>\n",
       "      <td>8</td>\n",
       "      <td>539</td>\n",
       "      <td>PhD</td>\n",
       "      <td>979</td>\n",
       "      <td>Great game.  Did not think I would like it whe...</td>\n",
       "      <td>Super fun</td>\n",
       "    </tr>\n",
       "    <tr>\n",
       "      <th>1997</th>\n",
       "      <td>Male</td>\n",
       "      <td>34</td>\n",
       "      <td>92.66</td>\n",
       "      <td>91</td>\n",
       "      <td>5614</td>\n",
       "      <td>graduate</td>\n",
       "      <td>1012</td>\n",
       "      <td>Great game for all.........\\nKeeps the mind ni...</td>\n",
       "      <td>Great Game</td>\n",
       "    </tr>\n",
       "    <tr>\n",
       "      <th>1998</th>\n",
       "      <td>Male</td>\n",
       "      <td>34</td>\n",
       "      <td>98.40</td>\n",
       "      <td>16</td>\n",
       "      <td>1048</td>\n",
       "      <td>PhD</td>\n",
       "      <td>1031</td>\n",
       "      <td>fun game!</td>\n",
       "      <td>Four Stars</td>\n",
       "    </tr>\n",
       "    <tr>\n",
       "      <th>1999</th>\n",
       "      <td>Male</td>\n",
       "      <td>32</td>\n",
       "      <td>92.66</td>\n",
       "      <td>8</td>\n",
       "      <td>479</td>\n",
       "      <td>PhD</td>\n",
       "      <td>453</td>\n",
       "      <td>This game is fun. A lot like scrabble without ...</td>\n",
       "      <td>Love this game</td>\n",
       "    </tr>\n",
       "  </tbody>\n",
       "</table>\n",
       "<p>2000 rows × 9 columns</p>\n",
       "</div>"
      ],
      "text/plain": [
       "      gender  age  remuneration  spending_score  loyalty_points education  \\\n",
       "0       Male   18         12.30              39             210  graduate   \n",
       "1       Male   23         12.30              81             524  graduate   \n",
       "2     Female   22         13.12               6              40  graduate   \n",
       "3     Female   25         13.12              77             562  graduate   \n",
       "4     Female   33         13.94              40             366  graduate   \n",
       "...      ...  ...           ...             ...             ...       ...   \n",
       "1995  Female   37         84.46              69            4031       PhD   \n",
       "1996  Female   43         92.66               8             539       PhD   \n",
       "1997    Male   34         92.66              91            5614  graduate   \n",
       "1998    Male   34         98.40              16            1048       PhD   \n",
       "1999    Male   32         92.66               8             479       PhD   \n",
       "\n",
       "      product                                             review  \\\n",
       "0         453  When it comes to a DM's screen, the space on t...   \n",
       "1         466  An Open Letter to GaleForce9*:\\n\\nYour unpaint...   \n",
       "2         254  Nice art, nice printing.  Why two panels are f...   \n",
       "3         263  Amazing buy! Bought it as a gift for our new d...   \n",
       "4         291  As my review of GF9's previous screens these w...   \n",
       "...       ...                                                ...   \n",
       "1995      977  The perfect word game for mixed ages (with Mom...   \n",
       "1996      979  Great game.  Did not think I would like it whe...   \n",
       "1997     1012  Great game for all.........\\nKeeps the mind ni...   \n",
       "1998     1031                                          fun game!   \n",
       "1999      453  This game is fun. A lot like scrabble without ...   \n",
       "\n",
       "                                                summary  \n",
       "0     The fact that 50% of this space is wasted on a...  \n",
       "1     Another worthless Dungeon Master's screen from...  \n",
       "2                       pretty, but also pretty useless  \n",
       "3                                            Five Stars  \n",
       "4                                            Money trap  \n",
       "...                                                 ...  \n",
       "1995     The perfect word game for mixed ages (with Mom  \n",
       "1996                                          Super fun  \n",
       "1997                                         Great Game  \n",
       "1998                                         Four Stars  \n",
       "1999                                     Love this game  \n",
       "\n",
       "[2000 rows x 9 columns]"
      ]
     },
     "execution_count": 23,
     "metadata": {},
     "output_type": "execute_result"
    }
   ],
   "source": [
    "# Import new CSV file with Pandas.\n",
    "reviews2 = pd.read_csv('turtle_cust_reviews.csv')\n",
    "\n",
    "# View DataFrame.\n",
    "reviews2"
   ]
  },
  {
   "cell_type": "markdown",
   "id": "3bdd7d5f-2501-4e3e-895c-4a02602e078a",
   "metadata": {},
   "source": [
    "## 5. Linear regression"
   ]
  },
  {
   "cell_type": "markdown",
   "id": "97a7f47e",
   "metadata": {},
   "source": [
    "### 5a) spending vs loyalty"
   ]
  },
  {
   "cell_type": "code",
   "execution_count": 24,
   "id": "75863d52-79df-4200-b044-5542db990fb9",
   "metadata": {},
   "outputs": [
    {
     "data": {
      "text/html": [
       "<table class=\"simpletable\">\n",
       "<caption>OLS Regression Results</caption>\n",
       "<tr>\n",
       "  <th>Dep. Variable:</th>            <td>y</td>        <th>  R-squared:         </th> <td>   0.452</td> \n",
       "</tr>\n",
       "<tr>\n",
       "  <th>Model:</th>                   <td>OLS</td>       <th>  Adj. R-squared:    </th> <td>   0.452</td> \n",
       "</tr>\n",
       "<tr>\n",
       "  <th>Method:</th>             <td>Least Squares</td>  <th>  F-statistic:       </th> <td>   1648.</td> \n",
       "</tr>\n",
       "<tr>\n",
       "  <th>Date:</th>             <td>Tue, 30 Aug 2022</td> <th>  Prob (F-statistic):</th> <td>2.92e-263</td>\n",
       "</tr>\n",
       "<tr>\n",
       "  <th>Time:</th>                 <td>18:29:36</td>     <th>  Log-Likelihood:    </th> <td> -16550.</td> \n",
       "</tr>\n",
       "<tr>\n",
       "  <th>No. Observations:</th>      <td>  2000</td>      <th>  AIC:               </th> <td>3.310e+04</td>\n",
       "</tr>\n",
       "<tr>\n",
       "  <th>Df Residuals:</th>          <td>  1998</td>      <th>  BIC:               </th> <td>3.312e+04</td>\n",
       "</tr>\n",
       "<tr>\n",
       "  <th>Df Model:</th>              <td>     1</td>      <th>                     </th>     <td> </td>    \n",
       "</tr>\n",
       "<tr>\n",
       "  <th>Covariance Type:</th>      <td>nonrobust</td>    <th>                     </th>     <td> </td>    \n",
       "</tr>\n",
       "</table>\n",
       "<table class=\"simpletable\">\n",
       "<tr>\n",
       "      <td></td>         <th>coef</th>     <th>std err</th>      <th>t</th>      <th>P>|t|</th>  <th>[0.025</th>    <th>0.975]</th>  \n",
       "</tr>\n",
       "<tr>\n",
       "  <th>Intercept</th> <td>  -75.0527</td> <td>   45.931</td> <td>   -1.634</td> <td> 0.102</td> <td> -165.129</td> <td>   15.024</td>\n",
       "</tr>\n",
       "<tr>\n",
       "  <th>x</th>         <td>   33.0617</td> <td>    0.814</td> <td>   40.595</td> <td> 0.000</td> <td>   31.464</td> <td>   34.659</td>\n",
       "</tr>\n",
       "</table>\n",
       "<table class=\"simpletable\">\n",
       "<tr>\n",
       "  <th>Omnibus:</th>       <td>126.554</td> <th>  Durbin-Watson:     </th> <td>   1.191</td>\n",
       "</tr>\n",
       "<tr>\n",
       "  <th>Prob(Omnibus):</th> <td> 0.000</td>  <th>  Jarque-Bera (JB):  </th> <td> 260.528</td>\n",
       "</tr>\n",
       "<tr>\n",
       "  <th>Skew:</th>          <td> 0.422</td>  <th>  Prob(JB):          </th> <td>2.67e-57</td>\n",
       "</tr>\n",
       "<tr>\n",
       "  <th>Kurtosis:</th>      <td> 4.554</td>  <th>  Cond. No.          </th> <td>    122.</td>\n",
       "</tr>\n",
       "</table><br/><br/>Notes:<br/>[1] Standard Errors assume that the covariance matrix of the errors is correctly specified."
      ],
      "text/plain": [
       "<class 'statsmodels.iolib.summary.Summary'>\n",
       "\"\"\"\n",
       "                            OLS Regression Results                            \n",
       "==============================================================================\n",
       "Dep. Variable:                      y   R-squared:                       0.452\n",
       "Model:                            OLS   Adj. R-squared:                  0.452\n",
       "Method:                 Least Squares   F-statistic:                     1648.\n",
       "Date:                Tue, 30 Aug 2022   Prob (F-statistic):          2.92e-263\n",
       "Time:                        18:29:36   Log-Likelihood:                -16550.\n",
       "No. Observations:                2000   AIC:                         3.310e+04\n",
       "Df Residuals:                    1998   BIC:                         3.312e+04\n",
       "Df Model:                           1                                         \n",
       "Covariance Type:            nonrobust                                         \n",
       "==============================================================================\n",
       "                 coef    std err          t      P>|t|      [0.025      0.975]\n",
       "------------------------------------------------------------------------------\n",
       "Intercept    -75.0527     45.931     -1.634      0.102    -165.129      15.024\n",
       "x             33.0617      0.814     40.595      0.000      31.464      34.659\n",
       "==============================================================================\n",
       "Omnibus:                      126.554   Durbin-Watson:                   1.191\n",
       "Prob(Omnibus):                  0.000   Jarque-Bera (JB):              260.528\n",
       "Skew:                           0.422   Prob(JB):                     2.67e-57\n",
       "Kurtosis:                       4.554   Cond. No.                         122.\n",
       "==============================================================================\n",
       "\n",
       "Notes:\n",
       "[1] Standard Errors assume that the covariance matrix of the errors is correctly specified.\n",
       "\"\"\""
      ]
     },
     "execution_count": 24,
     "metadata": {},
     "output_type": "execute_result"
    }
   ],
   "source": [
    "# Independent variable.\n",
    "x = reviews2['spending_score']\n",
    "\n",
    "# Dependent variable.\n",
    "y = reviews2['loyalty_points']\n",
    "\n",
    "# OLS model and summary.\n",
    "f = 'y ~ x'\n",
    "spend_to_loyal = ols(f, data = reviews2).fit()\n",
    "spend_to_loyal.summary()"
   ]
  },
  {
   "cell_type": "code",
   "execution_count": 25,
   "id": "22a55354",
   "metadata": {
    "tags": []
   },
   "outputs": [
    {
     "name": "stdout",
     "output_type": "stream",
     "text": [
      "Parameters:  Intercept   -75.052663\n",
      "x            33.061693\n",
      "dtype: float64\n",
      "Standard errors:  Intercept    45.930554\n",
      "x             0.814419\n",
      "dtype: float64\n"
     ]
    }
   ],
   "source": [
    "# Extract the estimated parameters.\n",
    "print(\"Parameters: \", spend_to_loyal.params)\n",
    "\n",
    "# Extract the standard errors.\n",
    "print(\"Standard errors: \", spend_to_loyal.bse)"
   ]
  },
  {
   "cell_type": "code",
   "execution_count": 26,
   "id": "00b7e92f-77a2-4543-bfd0-fa43434b8058",
   "metadata": {},
   "outputs": [
    {
     "name": "stdout",
     "output_type": "stream",
     "text": [
      "Predicted values:  [1214.35337415 2602.94449102  123.31749662 ... 2933.56142361  453.93442921\n",
      "  189.44088314]\n"
     ]
    }
   ],
   "source": [
    "# Extract the predicted values.\n",
    "print(\"Predicted values: \", spend_to_loyal.predict())"
   ]
  },
  {
   "cell_type": "code",
   "execution_count": 29,
   "id": "9798e427",
   "metadata": {},
   "outputs": [
    {
     "data": {
      "text/plain": [
       "0       1214.3536\n",
       "1       2602.9450\n",
       "2        123.3175\n",
       "3       2470.6982\n",
       "4       1247.4153\n",
       "          ...    \n",
       "1995    2206.2046\n",
       "1996     189.4409\n",
       "1997    2933.5620\n",
       "1998     453.9345\n",
       "1999     189.4409\n",
       "Name: spending_score, Length: 2000, dtype: float64"
      ]
     },
     "execution_count": 29,
     "metadata": {},
     "output_type": "execute_result"
    }
   ],
   "source": [
    "# Set the X coefficient and the constant to generate the regression table.\n",
    "loyalty_pred = 33.0617 * reviews2['spending_score'] - 75.0527\n",
    "\n",
    "# View the output.\n",
    "loyalty_pred"
   ]
  },
  {
   "cell_type": "code",
   "execution_count": 30,
   "id": "f0dde67a",
   "metadata": {},
   "outputs": [
    {
     "data": {
      "text/plain": [
       "[<matplotlib.lines.Line2D at 0x1a3a647f280>]"
      ]
     },
     "execution_count": 30,
     "metadata": {},
     "output_type": "execute_result"
    },
    {
     "data": {
      "image/png": "[encoded data removed]",
      "text/plain": [
       "<Figure size 432x288 with 1 Axes>"
      ]
     },
     "metadata": {
      "needs_background": "light"
     },
     "output_type": "display_data"
    }
   ],
   "source": [
    "# Plot the graph with a regression line.\n",
    "plt.scatter(x,y)  \n",
    "plt.plot(x,loyalty_pred, color='black') "
   ]
  },
  {
   "cell_type": "markdown",
   "id": "0bc0f24f",
   "metadata": {},
   "source": [
    "### 5b) renumeration vs loyalty"
   ]
  },
  {
   "cell_type": "code",
   "execution_count": 31,
   "id": "db590005-b90a-4005-875e-dbec56155229",
   "metadata": {},
   "outputs": [
    {
     "data": {
      "text/html": [
       "<table class=\"simpletable\">\n",
       "<caption>OLS Regression Results</caption>\n",
       "<tr>\n",
       "  <th>Dep. Variable:</th>           <td>y2</td>        <th>  R-squared:         </th> <td>   0.380</td> \n",
       "</tr>\n",
       "<tr>\n",
       "  <th>Model:</th>                   <td>OLS</td>       <th>  Adj. R-squared:    </th> <td>   0.379</td> \n",
       "</tr>\n",
       "<tr>\n",
       "  <th>Method:</th>             <td>Least Squares</td>  <th>  F-statistic:       </th> <td>   1222.</td> \n",
       "</tr>\n",
       "<tr>\n",
       "  <th>Date:</th>             <td>Tue, 30 Aug 2022</td> <th>  Prob (F-statistic):</th> <td>2.43e-209</td>\n",
       "</tr>\n",
       "<tr>\n",
       "  <th>Time:</th>                 <td>19:35:07</td>     <th>  Log-Likelihood:    </th> <td> -16674.</td> \n",
       "</tr>\n",
       "<tr>\n",
       "  <th>No. Observations:</th>      <td>  2000</td>      <th>  AIC:               </th> <td>3.335e+04</td>\n",
       "</tr>\n",
       "<tr>\n",
       "  <th>Df Residuals:</th>          <td>  1998</td>      <th>  BIC:               </th> <td>3.336e+04</td>\n",
       "</tr>\n",
       "<tr>\n",
       "  <th>Df Model:</th>              <td>     1</td>      <th>                     </th>     <td> </td>    \n",
       "</tr>\n",
       "<tr>\n",
       "  <th>Covariance Type:</th>      <td>nonrobust</td>    <th>                     </th>     <td> </td>    \n",
       "</tr>\n",
       "</table>\n",
       "<table class=\"simpletable\">\n",
       "<tr>\n",
       "      <td></td>         <th>coef</th>     <th>std err</th>      <th>t</th>      <th>P>|t|</th>  <th>[0.025</th>    <th>0.975]</th>  \n",
       "</tr>\n",
       "<tr>\n",
       "  <th>Intercept</th> <td>  -65.6865</td> <td>   52.171</td> <td>   -1.259</td> <td> 0.208</td> <td> -168.001</td> <td>   36.628</td>\n",
       "</tr>\n",
       "<tr>\n",
       "  <th>x2</th>        <td>   34.1878</td> <td>    0.978</td> <td>   34.960</td> <td> 0.000</td> <td>   32.270</td> <td>   36.106</td>\n",
       "</tr>\n",
       "</table>\n",
       "<table class=\"simpletable\">\n",
       "<tr>\n",
       "  <th>Omnibus:</th>       <td>21.285</td> <th>  Durbin-Watson:     </th> <td>   3.622</td>\n",
       "</tr>\n",
       "<tr>\n",
       "  <th>Prob(Omnibus):</th> <td> 0.000</td> <th>  Jarque-Bera (JB):  </th> <td>  31.715</td>\n",
       "</tr>\n",
       "<tr>\n",
       "  <th>Skew:</th>          <td> 0.089</td> <th>  Prob(JB):          </th> <td>1.30e-07</td>\n",
       "</tr>\n",
       "<tr>\n",
       "  <th>Kurtosis:</th>      <td> 3.590</td> <th>  Cond. No.          </th> <td>    123.</td>\n",
       "</tr>\n",
       "</table><br/><br/>Notes:<br/>[1] Standard Errors assume that the covariance matrix of the errors is correctly specified."
      ],
      "text/plain": [
       "<class 'statsmodels.iolib.summary.Summary'>\n",
       "\"\"\"\n",
       "                            OLS Regression Results                            \n",
       "==============================================================================\n",
       "Dep. Variable:                     y2   R-squared:                       0.380\n",
       "Model:                            OLS   Adj. R-squared:                  0.379\n",
       "Method:                 Least Squares   F-statistic:                     1222.\n",
       "Date:                Tue, 30 Aug 2022   Prob (F-statistic):          2.43e-209\n",
       "Time:                        19:35:07   Log-Likelihood:                -16674.\n",
       "No. Observations:                2000   AIC:                         3.335e+04\n",
       "Df Residuals:                    1998   BIC:                         3.336e+04\n",
       "Df Model:                           1                                         \n",
       "Covariance Type:            nonrobust                                         \n",
       "==============================================================================\n",
       "                 coef    std err          t      P>|t|      [0.025      0.975]\n",
       "------------------------------------------------------------------------------\n",
       "Intercept    -65.6865     52.171     -1.259      0.208    -168.001      36.628\n",
       "x2            34.1878      0.978     34.960      0.000      32.270      36.106\n",
       "==============================================================================\n",
       "Omnibus:                       21.285   Durbin-Watson:                   3.622\n",
       "Prob(Omnibus):                  0.000   Jarque-Bera (JB):               31.715\n",
       "Skew:                           0.089   Prob(JB):                     1.30e-07\n",
       "Kurtosis:                       3.590   Cond. No.                         123.\n",
       "==============================================================================\n",
       "\n",
       "Notes:\n",
       "[1] Standard Errors assume that the covariance matrix of the errors is correctly specified.\n",
       "\"\"\""
      ]
     },
     "execution_count": 31,
     "metadata": {},
     "output_type": "execute_result"
    }
   ],
   "source": [
    "# Independent variable.\n",
    "x2 = reviews2['remuneration']\n",
    "\n",
    "# Dependent variable.\n",
    "y2 = reviews2['loyalty_points']\n",
    "\n",
    "# OLS model and summary.\n",
    "f = 'y2 ~ x2'\n",
    "income_to_loyal = ols(f, data = reviews2).fit()\n",
    "income_to_loyal.summary()"
   ]
  },
  {
   "cell_type": "code",
   "execution_count": 32,
   "id": "83e9ff25",
   "metadata": {
    "tags": []
   },
   "outputs": [
    {
     "name": "stdout",
     "output_type": "stream",
     "text": [
      "Parameters:  Intercept   -65.686513\n",
      "x2           34.187825\n",
      "dtype: float64\n",
      "Standard errors:  Intercept    52.170717\n",
      "x2            0.977925\n",
      "dtype: float64\n",
      "Predicted values:  [ 354.82374068  354.82374068  382.85775758 ... 3102.15739671 3298.39551499\n",
      " 3102.15739671]\n"
     ]
    }
   ],
   "source": [
    "# Extract the estimated parameters.\n",
    "print(\"Parameters: \", income_to_loyal.params)\n",
    "\n",
    "# Extract the standard errors.\n",
    "print(\"Standard errors: \", income_to_loyal.bse)\n",
    "\n",
    "# Extract the predicted values.\n",
    "print(\"Predicted values: \", income_to_loyal.predict())"
   ]
  },
  {
   "cell_type": "code",
   "execution_count": 33,
   "id": "291fb0ae",
   "metadata": {},
   "outputs": [
    {
     "data": {
      "text/plain": [
       "0        354.823440\n",
       "1        354.823440\n",
       "2        382.857436\n",
       "3        382.857436\n",
       "4        410.891432\n",
       "           ...     \n",
       "1995    2821.815088\n",
       "1996    3102.155048\n",
       "1997    3102.155048\n",
       "1998    3298.393020\n",
       "1999    3102.155048\n",
       "Name: remuneration, Length: 2000, dtype: float64"
      ]
     },
     "execution_count": 33,
     "metadata": {},
     "output_type": "execute_result"
    }
   ],
   "source": [
    "# Set the X coefficient and the constant to generate the regression table.\n",
    "loyalty_pred_income = 34.1878 * reviews2['remuneration'] - 65.6865\n",
    "\n",
    "# View the output.\n",
    "loyalty_pred_income"
   ]
  },
  {
   "cell_type": "code",
   "execution_count": 34,
   "id": "02d00e76",
   "metadata": {},
   "outputs": [
    {
     "data": {
      "text/plain": [
       "[<matplotlib.lines.Line2D at 0x1a3a75648b0>]"
      ]
     },
     "execution_count": 34,
     "metadata": {},
     "output_type": "execute_result"
    },
    {
     "data": {
      "image/png": "[encoded data removed]",
      "text/plain": [
       "<Figure size 432x288 with 1 Axes>"
      ]
     },
     "metadata": {
      "needs_background": "light"
     },
     "output_type": "display_data"
    }
   ],
   "source": [
    "# Plot the graph with a regression line.\n",
    "plt.scatter(x2,y2)  \n",
    "plt.plot(x,loyalty_pred_income, color='black')"
   ]
  },
  {
   "cell_type": "markdown",
   "id": "c8e1552d",
   "metadata": {},
   "source": [
    "### 5c) age vs loyalty"
   ]
  },
  {
   "cell_type": "code",
   "execution_count": 35,
   "id": "099274ee-8c86-44dc-a8dc-dfbf91e59728",
   "metadata": {},
   "outputs": [
    {
     "data": {
      "text/html": [
       "<table class=\"simpletable\">\n",
       "<caption>OLS Regression Results</caption>\n",
       "<tr>\n",
       "  <th>Dep. Variable:</th>           <td>y3</td>        <th>  R-squared:         </th> <td>   0.002</td> \n",
       "</tr>\n",
       "<tr>\n",
       "  <th>Model:</th>                   <td>OLS</td>       <th>  Adj. R-squared:    </th> <td>   0.001</td> \n",
       "</tr>\n",
       "<tr>\n",
       "  <th>Method:</th>             <td>Least Squares</td>  <th>  F-statistic:       </th> <td>   3.606</td> \n",
       "</tr>\n",
       "<tr>\n",
       "  <th>Date:</th>             <td>Tue, 30 Aug 2022</td> <th>  Prob (F-statistic):</th>  <td>0.0577</td>  \n",
       "</tr>\n",
       "<tr>\n",
       "  <th>Time:</th>                 <td>19:43:08</td>     <th>  Log-Likelihood:    </th> <td> -17150.</td> \n",
       "</tr>\n",
       "<tr>\n",
       "  <th>No. Observations:</th>      <td>  2000</td>      <th>  AIC:               </th> <td>3.430e+04</td>\n",
       "</tr>\n",
       "<tr>\n",
       "  <th>Df Residuals:</th>          <td>  1998</td>      <th>  BIC:               </th> <td>3.431e+04</td>\n",
       "</tr>\n",
       "<tr>\n",
       "  <th>Df Model:</th>              <td>     1</td>      <th>                     </th>     <td> </td>    \n",
       "</tr>\n",
       "<tr>\n",
       "  <th>Covariance Type:</th>      <td>nonrobust</td>    <th>                     </th>     <td> </td>    \n",
       "</tr>\n",
       "</table>\n",
       "<table class=\"simpletable\">\n",
       "<tr>\n",
       "      <td></td>         <th>coef</th>     <th>std err</th>      <th>t</th>      <th>P>|t|</th>  <th>[0.025</th>    <th>0.975]</th>  \n",
       "</tr>\n",
       "<tr>\n",
       "  <th>Intercept</th> <td> 1736.5177</td> <td>   88.249</td> <td>   19.678</td> <td> 0.000</td> <td> 1563.449</td> <td> 1909.587</td>\n",
       "</tr>\n",
       "<tr>\n",
       "  <th>x3</th>        <td>   -4.0128</td> <td>    2.113</td> <td>   -1.899</td> <td> 0.058</td> <td>   -8.157</td> <td>    0.131</td>\n",
       "</tr>\n",
       "</table>\n",
       "<table class=\"simpletable\">\n",
       "<tr>\n",
       "  <th>Omnibus:</th>       <td>481.477</td> <th>  Durbin-Watson:     </th> <td>   2.277</td> \n",
       "</tr>\n",
       "<tr>\n",
       "  <th>Prob(Omnibus):</th> <td> 0.000</td>  <th>  Jarque-Bera (JB):  </th> <td> 937.734</td> \n",
       "</tr>\n",
       "<tr>\n",
       "  <th>Skew:</th>          <td> 1.449</td>  <th>  Prob(JB):          </th> <td>2.36e-204</td>\n",
       "</tr>\n",
       "<tr>\n",
       "  <th>Kurtosis:</th>      <td> 4.688</td>  <th>  Cond. No.          </th> <td>    129.</td> \n",
       "</tr>\n",
       "</table><br/><br/>Notes:<br/>[1] Standard Errors assume that the covariance matrix of the errors is correctly specified."
      ],
      "text/plain": [
       "<class 'statsmodels.iolib.summary.Summary'>\n",
       "\"\"\"\n",
       "                            OLS Regression Results                            \n",
       "==============================================================================\n",
       "Dep. Variable:                     y3   R-squared:                       0.002\n",
       "Model:                            OLS   Adj. R-squared:                  0.001\n",
       "Method:                 Least Squares   F-statistic:                     3.606\n",
       "Date:                Tue, 30 Aug 2022   Prob (F-statistic):             0.0577\n",
       "Time:                        19:43:08   Log-Likelihood:                -17150.\n",
       "No. Observations:                2000   AIC:                         3.430e+04\n",
       "Df Residuals:                    1998   BIC:                         3.431e+04\n",
       "Df Model:                           1                                         \n",
       "Covariance Type:            nonrobust                                         \n",
       "==============================================================================\n",
       "                 coef    std err          t      P>|t|      [0.025      0.975]\n",
       "------------------------------------------------------------------------------\n",
       "Intercept   1736.5177     88.249     19.678      0.000    1563.449    1909.587\n",
       "x3            -4.0128      2.113     -1.899      0.058      -8.157       0.131\n",
       "==============================================================================\n",
       "Omnibus:                      481.477   Durbin-Watson:                   2.277\n",
       "Prob(Omnibus):                  0.000   Jarque-Bera (JB):              937.734\n",
       "Skew:                           1.449   Prob(JB):                    2.36e-204\n",
       "Kurtosis:                       4.688   Cond. No.                         129.\n",
       "==============================================================================\n",
       "\n",
       "Notes:\n",
       "[1] Standard Errors assume that the covariance matrix of the errors is correctly specified.\n",
       "\"\"\""
      ]
     },
     "execution_count": 35,
     "metadata": {},
     "output_type": "execute_result"
    }
   ],
   "source": [
    "# Independent variable.\n",
    "x3 = reviews2['age']\n",
    "\n",
    "# Dependent variable.\n",
    "y3 = reviews2['loyalty_points']\n",
    "\n",
    "# OLS model and summary.\n",
    "f = 'y3 ~ x3'\n",
    "age_to_loyal = ols(f, data = reviews2).fit()\n",
    "age_to_loyal.summary()"
   ]
  },
  {
   "cell_type": "code",
   "execution_count": 36,
   "id": "0084f022",
   "metadata": {},
   "outputs": [
    {
     "name": "stdout",
     "output_type": "stream",
     "text": [
      "Parameters:  Intercept    1736.517739\n",
      "x3             -4.012805\n",
      "dtype: float64\n",
      "Standard errors:  Intercept    88.248731\n",
      "x3            2.113177\n",
      "dtype: float64\n",
      "Predicted values:  [1664.2872467  1644.22322095 1648.2360261  ... 1600.0823643  1600.0823643\n",
      " 1608.1079746 ]\n"
     ]
    }
   ],
   "source": [
    "# Extract the estimated parameters.\n",
    "print(\"Parameters: \", age_to_loyal.params)\n",
    "\n",
    "# Extract the standard errors.\n",
    "print(\"Standard errors: \", age_to_loyal.bse)\n",
    "\n",
    "# Extract the predicted values.\n",
    "print(\"Predicted values: \", age_to_loyal.predict())"
   ]
  },
  {
   "cell_type": "code",
   "execution_count": 37,
   "id": "1fb3a7e5",
   "metadata": {},
   "outputs": [
    {
     "data": {
      "text/plain": [
       "0       1664.2873\n",
       "1       1644.2233\n",
       "2       1648.2361\n",
       "3       1636.1977\n",
       "4       1604.0953\n",
       "          ...    \n",
       "1995    1588.0441\n",
       "1996    1563.9673\n",
       "1997    1600.0825\n",
       "1998    1600.0825\n",
       "1999    1608.1081\n",
       "Name: age, Length: 2000, dtype: float64"
      ]
     },
     "execution_count": 37,
     "metadata": {},
     "output_type": "execute_result"
    }
   ],
   "source": [
    "# Set the X coefficient and the constant to generate the regression table.\n",
    "loyalty_pred_age = -4.0128 * reviews2['age'] + 1736.5177\n",
    "\n",
    "# View the output.\n",
    "loyalty_pred_age"
   ]
  },
  {
   "cell_type": "code",
   "execution_count": 38,
   "id": "19bc52bd",
   "metadata": {},
   "outputs": [
    {
     "data": {
      "text/plain": [
       "[<matplotlib.lines.Line2D at 0x1a3a771da60>]"
      ]
     },
     "execution_count": 38,
     "metadata": {},
     "output_type": "execute_result"
    },
    {
     "data": {
      "image/png": "[encoded data removed]",
      "text/plain": [
       "<Figure size 432x288 with 1 Axes>"
      ]
     },
     "metadata": {
      "needs_background": "light"
     },
     "output_type": "display_data"
    }
   ],
   "source": [
    "# Plot the graph with a regression line.\n",
    "plt.scatter(x3,y3)  \n",
    "plt.plot(x,loyalty_pred_age, color='black') "
   ]
  },
  {
   "cell_type": "markdown",
   "id": "df1fa5b5-ca8f-4ee8-a22e-532142d5cf52",
   "metadata": {},
   "source": [
    "## 6. Observations and insights"
   ]
  },
  {
   "cell_type": "markdown",
   "id": "713d8150-b5e5-4b96-b138-3437158bc020",
   "metadata": {},
   "source": [
    "***From the three simple linear regressions summaries we can conclude that none of the 3 vraiables (i.e. spending, remuneration, age) can predict well the loyalty score. This is due to the fact that R-squared is far below an accepted threshold of 0.60 that could indicate a strong relationship between the independents and dependent variables. That's also visilble from the high standard errors as well as the regression plots. Only the regression Spending VS Loyalty produced the most reasonable results out of the three, but still the R-squared is low, standard error with high value with insignificant p-value (>0.05), and observations in the plot too far from the regression line***"
   ]
  },
  {
   "cell_type": "markdown",
   "id": "7d027289-d710-49b1-bf17-4a0657cca105",
   "metadata": {
    "tags": []
   },
   "source": []
  },
  {
   "cell_type": "markdown",
   "id": "a7c924ec",
   "metadata": {},
   "source": [
    "# Week 2 assignment: Clustering with *k*-means using Python\n",
    "\n",
    "The marketing department also wants to better understand the usefulness of renumeration and spending scores but do not know where to begin. You are tasked to identify groups within the customer base that can be used to target specific market segments. Use *k*-means clustering to identify the optimal number of clusters and then apply and plot the data using the created segments.\n",
    "\n",
    "## Instructions\n",
    "1. Prepare the data for clustering. \n",
    "    1. Import the CSV file you have prepared in Week 1.\n",
    "    2. Create a new DataFrame (e.g. `df2`) containing the `renumeration` and `spending_score` columns.\n",
    "    3. Explore the new DataFrame. \n",
    "2. Plot the renumeration versus spending score.\n",
    "    1. Create a scatterplot.\n",
    "    2. Create a pairplot.\n",
    "3. Use the Silhouette and Elbow methods to determine the optimal number of clusters for *k*-means clustering.\n",
    "    1. Plot both methods and explain how you determine the number of clusters to use.\n",
    "    2. Add titles and legends to the plot.\n",
    "4. Evaluate the usefulness of at least three values for *k* based on insights from the Elbow and Silhoutte methods.\n",
    "    1. Plot the predicted *k*-means.\n",
    "    2. Explain which value might give you the best clustering.\n",
    "5. Fit a final model using your selected value for *k*.\n",
    "    1. Justify your selection and comment on the respective cluster sizes of your final solution.\n",
    "    2. Check the number of observations per predicted class.\n",
    "6. Plot the clusters and interpret the model."
   ]
  },
  {
   "cell_type": "markdown",
   "id": "e4e7299b",
   "metadata": {},
   "source": [
    "## 1. Load and explore the data"
   ]
  },
  {
   "cell_type": "code",
   "execution_count": null,
   "id": "ae1dc705",
   "metadata": {},
   "outputs": [],
   "source": [
    "# Import necessary libraries.\n",
    "import numpy as np\n",
    "import pandas as pd\n",
    "import matplotlib.pyplot as plt\n",
    "import matplotlib.cm as cm\n",
    "import seaborn as sns\n",
    "\n",
    "from sklearn.preprocessing import StandardScaler\n",
    "from sklearn.cluster import KMeans\n",
    "from sklearn.metrics import silhouette_score\n",
    "from sklearn.metrics import accuracy_score\n",
    "from scipy.spatial.distance import cdist\n",
    "\n",
    "import warnings\n",
    "warnings.filterwarnings('ignore')"
   ]
  },
  {
   "cell_type": "code",
   "execution_count": null,
   "id": "2645d45c",
   "metadata": {},
   "outputs": [],
   "source": [
    "# Load the CSV file(s) as df2.\n",
    "\n",
    "# View DataFrame.\n"
   ]
  },
  {
   "cell_type": "code",
   "execution_count": null,
   "id": "4317dbb3-bab1-4ad3-9c43-ee9af8ffcc0d",
   "metadata": {},
   "outputs": [],
   "source": [
    "# Drop unnecessary columns.\n",
    "\n",
    "\n",
    "# View DataFrame.\n"
   ]
  },
  {
   "cell_type": "code",
   "execution_count": null,
   "id": "8f98e886",
   "metadata": {},
   "outputs": [],
   "source": [
    "# Explore the data.\n"
   ]
  },
  {
   "cell_type": "code",
   "execution_count": null,
   "id": "ed6e10d6",
   "metadata": {},
   "outputs": [],
   "source": [
    "# Descriptive statistics.\n"
   ]
  },
  {
   "cell_type": "markdown",
   "id": "3f971229",
   "metadata": {},
   "source": [
    "## 2. Plot"
   ]
  },
  {
   "cell_type": "code",
   "execution_count": null,
   "id": "f38a5b58",
   "metadata": {},
   "outputs": [],
   "source": [
    "# Create a scatterplot with Seaborn.\n"
   ]
  },
  {
   "cell_type": "code",
   "execution_count": null,
   "id": "600783ce-5a91-4ca8-993f-29499fcc4918",
   "metadata": {},
   "outputs": [],
   "source": [
    "# Create a pairplot with Seaborn.\n"
   ]
  },
  {
   "cell_type": "markdown",
   "id": "c3d64b28-fc72-4633-af71-2040de573ece",
   "metadata": {},
   "source": [
    "## 3. Elbow and silhoutte methods"
   ]
  },
  {
   "cell_type": "code",
   "execution_count": null,
   "id": "dbd0290f",
   "metadata": {},
   "outputs": [],
   "source": [
    "# Determine the number of clusters: Elbow method.\n"
   ]
  },
  {
   "cell_type": "code",
   "execution_count": null,
   "id": "ce995702",
   "metadata": {},
   "outputs": [],
   "source": [
    "# Determine the number of clusters: Silhouette method.\n"
   ]
  },
  {
   "cell_type": "markdown",
   "id": "8e0fd764",
   "metadata": {},
   "source": [
    "## 4. Evaluate k-means model at different values of *k*"
   ]
  },
  {
   "cell_type": "code",
   "execution_count": null,
   "id": "20e340aa-fac0-4cd1-8da0-ee5502a81504",
   "metadata": {},
   "outputs": [],
   "source": []
  },
  {
   "cell_type": "code",
   "execution_count": null,
   "id": "66197d18",
   "metadata": {},
   "outputs": [],
   "source": []
  },
  {
   "cell_type": "code",
   "execution_count": null,
   "id": "c7bdf570-062b-488c-9043-1372d3f6c391",
   "metadata": {},
   "outputs": [],
   "source": []
  },
  {
   "cell_type": "markdown",
   "id": "e6d3307d-3831-4a05-ba52-4cfe24262ec6",
   "metadata": {},
   "source": [
    "## 5. Fit final model and justify your choice"
   ]
  },
  {
   "cell_type": "code",
   "execution_count": null,
   "id": "883dc3ac-f6cf-47cd-a779-d365f120207f",
   "metadata": {},
   "outputs": [],
   "source": [
    "# Apply the final model.\n"
   ]
  },
  {
   "cell_type": "code",
   "execution_count": null,
   "id": "ae8802ea-7690-47e6-b23a-0ee483dcde58",
   "metadata": {},
   "outputs": [],
   "source": [
    "# Check the number of observations per predicted class.\n"
   ]
  },
  {
   "cell_type": "markdown",
   "id": "ec7d2cf2",
   "metadata": {},
   "source": [
    "## 6. Plot and interpret the clusters"
   ]
  },
  {
   "cell_type": "code",
   "execution_count": null,
   "id": "e8cd85f4",
   "metadata": {},
   "outputs": [],
   "source": [
    "# Visualising the clusters.\n",
    "\n",
    "\n",
    "# View the DataFrame.\n"
   ]
  },
  {
   "cell_type": "code",
   "execution_count": null,
   "id": "4de2b0d0",
   "metadata": {},
   "outputs": [],
   "source": [
    "# Visualising the clusters.\n",
    "\n"
   ]
  },
  {
   "cell_type": "markdown",
   "id": "5e5625ce",
   "metadata": {},
   "source": [
    "## 7. Discuss: Insights and observations\n",
    "\n",
    "***Your observations here...***"
   ]
  },
  {
   "cell_type": "code",
   "execution_count": null,
   "id": "ef3f7e95",
   "metadata": {},
   "outputs": [],
   "source": []
  },
  {
   "cell_type": "markdown",
   "id": "23335aa9",
   "metadata": {},
   "source": [
    "# "
   ]
  },
  {
   "cell_type": "markdown",
   "id": "d4b58c90",
   "metadata": {},
   "source": [
    "# Week 3 assignment: NLP using Python\n",
    "Customer reviews were downloaded from the website of Turtle Games. This data will be used to steer the marketing department on how to approach future campaigns. Therefore, the marketing department asked you to identify the 15 most common words used in online product reviews. They also want to have a list of the top 20 positive and negative reviews received from the website. Therefore, you need to apply NLP on the data set.\n",
    "\n",
    "## Instructions\n",
    "1. Load and explore the data. \n",
    "    1. Sense-check the DataFrame.\n",
    "    2. You only need to retain the `review` and `summary` columns.\n",
    "    3. Determine if there are any missing values.\n",
    "2. Prepare the data for NLP\n",
    "    1. Change to lower case and join the elements in each of the columns respectively (`review` and `summary`).\n",
    "    2. Replace punctuation in each of the columns respectively (`review` and `summary`).\n",
    "    3. Drop duplicates in both columns (`review` and `summary`).\n",
    "3. Tokenise and create wordclouds for the respective columns (separately).\n",
    "    1. Create a copy of the DataFrame.\n",
    "    2. Apply tokenisation on both columns.\n",
    "    3. Create and plot a wordcloud image.\n",
    "4. Frequency distribution and polarity.\n",
    "    1. Create frequency distribution.\n",
    "    2. Remove alphanumeric characters and stopwords.\n",
    "    3. Create wordcloud without stopwords.\n",
    "    4. Identify 15 most common words and polarity.\n",
    "5. Review polarity and sentiment.\n",
    "    1. Plot histograms of polarity (use 15 bins) for both columns.\n",
    "    2. Review the sentiment scores for the respective columns.\n",
    "6. Identify and print the top 20 positive and negative reviews and summaries respectively.\n",
    "7. Include your insights and observations."
   ]
  },
  {
   "cell_type": "markdown",
   "id": "40558b5f",
   "metadata": {},
   "source": [
    "## 1. Load and explore the data"
   ]
  },
  {
   "cell_type": "code",
   "execution_count": null,
   "id": "9f32be5a",
   "metadata": {},
   "outputs": [],
   "source": [
    "# Import all the necessary packages.\n",
    "import pandas as pd\n",
    "import numpy as np\n",
    "import nltk \n",
    "import os \n",
    "import matplotlib.pyplot as plt\n",
    "\n",
    "# nltk.download ('punkt').\n",
    "# nltk.download ('stopwords').\n",
    "\n",
    "from wordcloud import WordCloud\n",
    "from nltk.tokenize import word_tokenize\n",
    "from nltk.probability import FreqDist\n",
    "from nltk.corpus import stopwords\n",
    "from textblob import TextBlob\n",
    "from scipy.stats import norm\n",
    "\n",
    "# Import Counter.\n",
    "from collections import Counter\n",
    "\n",
    "import warnings\n",
    "warnings.filterwarnings('ignore')"
   ]
  },
  {
   "cell_type": "code",
   "execution_count": null,
   "id": "85947561",
   "metadata": {},
   "outputs": [],
   "source": [
    "# Load the data set as df3.\n",
    "\n",
    "\n",
    "# View DataFrame.\n"
   ]
  },
  {
   "cell_type": "code",
   "execution_count": null,
   "id": "d86c8b70",
   "metadata": {},
   "outputs": [],
   "source": [
    "# Explore data set.\n"
   ]
  },
  {
   "cell_type": "code",
   "execution_count": null,
   "id": "1694122f",
   "metadata": {},
   "outputs": [],
   "source": [
    "# Keep necessary columns. Drop unnecessary columns.\n",
    "\n",
    "\n",
    "# View DataFrame.\n"
   ]
  },
  {
   "cell_type": "code",
   "execution_count": null,
   "id": "00736320",
   "metadata": {},
   "outputs": [],
   "source": [
    "# Determine if there are any missing values.\n"
   ]
  },
  {
   "cell_type": "markdown",
   "id": "936bd63b",
   "metadata": {},
   "source": [
    "## 2. Prepare the data for NLP\n",
    "### 2a) Change to lower case and join the elements in each of the columns respectively (review and summary)"
   ]
  },
  {
   "cell_type": "code",
   "execution_count": null,
   "id": "a51d4e9b",
   "metadata": {},
   "outputs": [],
   "source": [
    "# Review: Change all to lower case and join with a space.\n"
   ]
  },
  {
   "cell_type": "code",
   "execution_count": null,
   "id": "615be2ce",
   "metadata": {},
   "outputs": [],
   "source": [
    "# Summary: Change all to lower case and join with a space.\n"
   ]
  },
  {
   "cell_type": "markdown",
   "id": "1be5b39d",
   "metadata": {},
   "source": [
    "### 2b) Replace punctuation in each of the columns respectively (review and summary)"
   ]
  },
  {
   "cell_type": "code",
   "execution_count": null,
   "id": "17e14ff4",
   "metadata": {},
   "outputs": [],
   "source": [
    "# Replace all the punctuations in review column.\n",
    "\n",
    "\n",
    "# View output.\n"
   ]
  },
  {
   "cell_type": "code",
   "execution_count": null,
   "id": "e003fccc",
   "metadata": {},
   "outputs": [],
   "source": [
    "# Replace all the puncuations in summary column.\n",
    "\n",
    "\n",
    "# View output.\n"
   ]
  },
  {
   "cell_type": "markdown",
   "id": "aeb6d0b2",
   "metadata": {},
   "source": [
    "### 2c) Drop duplicates in both columns"
   ]
  },
  {
   "cell_type": "code",
   "execution_count": null,
   "id": "c6c0a6bb",
   "metadata": {},
   "outputs": [],
   "source": [
    "# Drop duplicates in both columns.\n",
    "\n",
    "\n",
    "# View DataFrame.\n"
   ]
  },
  {
   "cell_type": "markdown",
   "id": "4ee064a9-dbc4-4b82-b6e7-17c6e441fa05",
   "metadata": {},
   "source": [
    "## 3. Tokenise and create wordclouds"
   ]
  },
  {
   "cell_type": "code",
   "execution_count": null,
   "id": "5111dc03",
   "metadata": {},
   "outputs": [],
   "source": [
    "# Create new DataFrame (copy DataFrame).\n",
    "\n",
    "\n",
    "# View DataFrame.\n"
   ]
  },
  {
   "cell_type": "code",
   "execution_count": null,
   "id": "e7ace8c9",
   "metadata": {},
   "outputs": [],
   "source": [
    "# Apply tokenisation to both columns.\n",
    "\n",
    "\n",
    "# View DataFrame.\n"
   ]
  },
  {
   "cell_type": "code",
   "execution_count": null,
   "id": "105d7520",
   "metadata": {},
   "outputs": [],
   "source": [
    "# Review: Create a word cloud.\n"
   ]
  },
  {
   "cell_type": "code",
   "execution_count": null,
   "id": "eac7e7dd",
   "metadata": {},
   "outputs": [],
   "source": [
    "# Review: Plot the WordCloud image.\n"
   ]
  },
  {
   "cell_type": "code",
   "execution_count": null,
   "id": "22cbdfc4",
   "metadata": {},
   "outputs": [],
   "source": [
    "# Summary: Create a word cloud.\n"
   ]
  },
  {
   "cell_type": "code",
   "execution_count": null,
   "id": "f53776cb",
   "metadata": {},
   "outputs": [],
   "source": [
    "# Summary: Plot the WordCloud image.\n"
   ]
  },
  {
   "cell_type": "markdown",
   "id": "a3b5abd1",
   "metadata": {},
   "source": [
    "## 4. Frequency distribution and polarity\n",
    "### 4a) Create frequency distribution"
   ]
  },
  {
   "cell_type": "code",
   "execution_count": null,
   "id": "e06c1b17",
   "metadata": {},
   "outputs": [],
   "source": [
    "# Determine the frequency distribution.\n"
   ]
  },
  {
   "cell_type": "markdown",
   "id": "bd574d03-a034-454d-b6c5-89aa764c459a",
   "metadata": {},
   "source": [
    "### 4b) Remove alphanumeric characters and stopwords"
   ]
  },
  {
   "cell_type": "code",
   "execution_count": null,
   "id": "bd28216b",
   "metadata": {},
   "outputs": [],
   "source": [
    "# Delete all the alpanum.\n"
   ]
  },
  {
   "cell_type": "code",
   "execution_count": null,
   "id": "4a757d57",
   "metadata": {},
   "outputs": [],
   "source": [
    "# Remove all the stopwords\n"
   ]
  },
  {
   "cell_type": "markdown",
   "id": "0e68b09f-853e-4c9c-8ff9-ba0b33b8c8e3",
   "metadata": {},
   "source": [
    "### 4c) Create wordcloud without stopwords"
   ]
  },
  {
   "cell_type": "code",
   "execution_count": null,
   "id": "aa99b607",
   "metadata": {},
   "outputs": [],
   "source": [
    "# Create a wordcloud without stop words.\n"
   ]
  },
  {
   "cell_type": "code",
   "execution_count": null,
   "id": "37bf8dd3",
   "metadata": {},
   "outputs": [],
   "source": [
    "# Plot the wordcloud image.\n"
   ]
  },
  {
   "cell_type": "markdown",
   "id": "01c0b15b",
   "metadata": {},
   "source": [
    "### 4d) Identify 15 most common words and polarity"
   ]
  },
  {
   "cell_type": "code",
   "execution_count": null,
   "id": "2745e8bc",
   "metadata": {},
   "outputs": [],
   "source": [
    "# Determine the 15 most common words.\n"
   ]
  },
  {
   "cell_type": "markdown",
   "id": "59291784-3505-41e5-9914-e4ec8914524b",
   "metadata": {},
   "source": [
    "## 5. Review polarity and sentiment: Plot histograms of polarity (use 15 bins) and sentiment scores for the respective columns."
   ]
  },
  {
   "cell_type": "code",
   "execution_count": null,
   "id": "84288b8f-aab4-4fff-98d0-aaaf5eef28e8",
   "metadata": {},
   "outputs": [],
   "source": [
    "# Provided function.\n",
    "def generate_polarity(comment):\n",
    "    '''Extract polarity score (-1 to +1) for each comment'''\n",
    "    return TextBlob(comment).sentiment[0]"
   ]
  },
  {
   "cell_type": "code",
   "execution_count": null,
   "id": "8eea3a34",
   "metadata": {},
   "outputs": [],
   "source": [
    "# Determine polarity of both columns. \n",
    "\n",
    "\n",
    "# View output.\n"
   ]
  },
  {
   "cell_type": "code",
   "execution_count": null,
   "id": "2fcb45fe",
   "metadata": {},
   "outputs": [],
   "source": [
    "# Review: Create a histogram plot with bins = 15.\n",
    "# Histogram of polarity\n",
    "\n",
    "\n",
    "# Histogram of sentiment score\n"
   ]
  },
  {
   "cell_type": "code",
   "execution_count": null,
   "id": "3d9d1928",
   "metadata": {},
   "outputs": [],
   "source": [
    "# Summary: Create a histogram plot with bins = 15.\n",
    "# Histogram of polarity\n",
    "\n",
    "\n",
    "# Histogram of sentiment score\n"
   ]
  },
  {
   "cell_type": "markdown",
   "id": "7a2523b8",
   "metadata": {},
   "source": [
    "## 6. Identify top 20 positive and negative reviews and summaries respectively"
   ]
  },
  {
   "cell_type": "code",
   "execution_count": null,
   "id": "66d7c797",
   "metadata": {},
   "outputs": [],
   "source": [
    "# Top 20 negative reviews.\n",
    "\n",
    "\n",
    "# View output.\n"
   ]
  },
  {
   "cell_type": "code",
   "execution_count": null,
   "id": "e172c083",
   "metadata": {},
   "outputs": [],
   "source": [
    "# Top 20 negative summaries.\n",
    "\n",
    "\n",
    "# View output.\n"
   ]
  },
  {
   "cell_type": "code",
   "execution_count": null,
   "id": "348d8b54",
   "metadata": {},
   "outputs": [],
   "source": [
    "# Top 20 positive reviews.\n",
    "\n",
    "\n",
    "# View output.\n"
   ]
  },
  {
   "cell_type": "code",
   "execution_count": null,
   "id": "ee7c44eb",
   "metadata": {},
   "outputs": [],
   "source": [
    "# Top 20 positive summaries.\n",
    "\n",
    "\n",
    "# View output.\n"
   ]
  },
  {
   "cell_type": "markdown",
   "id": "41b2a108-a8af-4164-9b02-40068c17836d",
   "metadata": {},
   "source": [
    "## 7. Discuss: Insights and observations\n",
    "\n",
    "***Your observations here...***"
   ]
  },
  {
   "cell_type": "code",
   "execution_count": null,
   "id": "7c7f4c8c",
   "metadata": {},
   "outputs": [],
   "source": []
  },
  {
   "cell_type": "markdown",
   "id": "c3ac5e57",
   "metadata": {},
   "source": [
    "# "
   ]
  }
 ],
 "metadata": {
  "kernelspec": {
   "display_name": "Python 3 (ipykernel)",
   "language": "python",
   "name": "python3"
  },
  "language_info": {
   "codemirror_mode": {
    "name": "ipython",
    "version": 3
   },
   "file_extension": ".py",
   "mimetype": "text/x-python",
   "name": "python",
   "nbconvert_exporter": "python",
   "pygments_lexer": "ipython3",
   "version": "3.9.7"
  }
 },
 "nbformat": 4,
 "nbformat_minor": 5
}
